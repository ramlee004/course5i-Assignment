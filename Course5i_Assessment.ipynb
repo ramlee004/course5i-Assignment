{
 "cells": [
  {
   "cell_type": "code",
   "execution_count": 1,
   "metadata": {},
   "outputs": [],
   "source": [
    "import pandas as pd\n",
    "import selenium\n",
    "import requests\n",
    "import re\n",
    "from selenium import webdriver"
   ]
  },
  {
   "cell_type": "code",
   "execution_count": 2,
   "metadata": {},
   "outputs": [],
   "source": [
    "browser = webdriver.Chrome('chromedriver.exe')"
   ]
  },
  {
   "cell_type": "code",
   "execution_count": 3,
   "metadata": {},
   "outputs": [],
   "source": [
    "amazon_url = 'http://tiny.cc/sck34y'\n",
    "browser.get(amazon_url)"
   ]
  },
  {
   "cell_type": "code",
   "execution_count": 4,
   "metadata": {},
   "outputs": [
    {
     "data": {
      "text/plain": [
       "1"
      ]
     },
     "execution_count": 4,
     "metadata": {},
     "output_type": "execute_result"
    }
   ],
   "source": [
    "amazon_product = browser.find_elements_by_css_selector('div#dp')\n",
    "len(amazon_product)"
   ]
  },
  {
   "cell_type": "code",
   "execution_count": 14,
   "metadata": {},
   "outputs": [
    {
     "data": {
      "text/html": [
       "<div>\n",
       "<style scoped>\n",
       "    .dataframe tbody tr th:only-of-type {\n",
       "        vertical-align: middle;\n",
       "    }\n",
       "\n",
       "    .dataframe tbody tr th {\n",
       "        vertical-align: top;\n",
       "    }\n",
       "\n",
       "    .dataframe thead th {\n",
       "        text-align: right;\n",
       "    }\n",
       "</style>\n",
       "<table border=\"1\" class=\"dataframe\">\n",
       "  <thead>\n",
       "    <tr style=\"text-align: right;\">\n",
       "      <th></th>\n",
       "      <th>product_title</th>\n",
       "      <th>product_image</th>\n",
       "      <th>product_description</th>\n",
       "      <th>product_price</th>\n",
       "      <th>product_discount</th>\n",
       "      <th>product_with_exchange</th>\n",
       "      <th>product_color</th>\n",
       "    </tr>\n",
       "  </thead>\n",
       "  <tbody>\n",
       "    <tr>\n",
       "      <th>0</th>\n",
       "      <td>OnePlus 6T (Midnight Black, 8GB RAM, 128GB Sto...</td>\n",
       "      <td>https://images-na.ssl-images-amazon.com/images...</td>\n",
       "      <td>Size name:8+128 GB  |  Colour:Midnight Black</td>\n",
       "      <td>41,999.00</td>\n",
       "      <td>9,000.00 (21%)</td>\n",
       "      <td>Up to    11,400.00 off</td>\n",
       "      <td>8+128 GB</td>\n",
       "    </tr>\n",
       "  </tbody>\n",
       "</table>\n",
       "</div>"
      ],
      "text/plain": [
       "                                       product_title  \\\n",
       "0  OnePlus 6T (Midnight Black, 8GB RAM, 128GB Sto...   \n",
       "\n",
       "                                       product_image  \\\n",
       "0  https://images-na.ssl-images-amazon.com/images...   \n",
       "\n",
       "                            product_description product_price  \\\n",
       "0  Size name:8+128 GB  |  Colour:Midnight Black     41,999.00   \n",
       "\n",
       "    product_discount   product_with_exchange product_color  \n",
       "0     9,000.00 (21%)  Up to    11,400.00 off      8+128 GB  "
      ]
     },
     "execution_count": 14,
     "metadata": {},
     "output_type": "execute_result"
    }
   ],
   "source": [
    "df = pd.DataFrame(columns = ['product_title','product_image','product_description','product_price',\n",
    "                             'product_discount','product_with_exchange'])\n",
    "for books in amazon_product:\n",
    "    product_title = books.find_element_by_css_selector('h1').text\n",
    "    product_image = books.find_element_by_css_selector('img#landingImage.a-dynamic-image.a-stretch-vertical').get_attribute('src')\n",
    "    product_description = books.find_element_by_css_selector('div.disclaim').text\n",
    "    product_price = books.find_element_by_css_selector('span.priceBlockStrikePriceString.a-text-strike').text\n",
    "    product_discount = books.find_element_by_css_selector('td.a-span12.a-color-price.a-size-base.priceBlockSavingsString').text\n",
    "    product_color = books.find_element_by_css_selector('span.selection').text\n",
    "    #rating = books.find_element_by_css_selector('i.a-icon.a-icon-star.a-star-5.review-rating').text\n",
    "    product_with_exchange = books.find_element_by_css_selector('span.a-color-price').text\n",
    "    \n",
    "\n",
    "    current_table = {\n",
    "        'product_title':product_title,\n",
    "        'product_image':product_image,\n",
    "        'product_description':product_description,\n",
    "        'product_price':product_price,\n",
    "        'product_discount':product_discount,\n",
    "        'product_color':product_color,\n",
    "        'product_with_exchange':product_with_exchange,\n",
    "        \n",
    "        \n",
    "         }\n",
    "    df = df.append(current_table,ignore_index= True)\n",
    "df"
   ]
  },
  {
   "cell_type": "code",
   "execution_count": 35,
   "metadata": {},
   "outputs": [
    {
     "data": {
      "text/plain": [
       "1"
      ]
     },
     "execution_count": 35,
     "metadata": {},
     "output_type": "execute_result"
    }
   ],
   "source": [
    "amazon_reviews = browser.find_elements_by_css_selector(\"div#cm-cr-dp-review-list.a-section.review-views.celwidget\")\n",
    "len(amazon_reviews)"
   ]
  },
  {
   "cell_type": "code",
   "execution_count": 39,
   "metadata": {},
   "outputs": [
    {
     "data": {
      "text/html": [
       "<div>\n",
       "<style scoped>\n",
       "    .dataframe tbody tr th:only-of-type {\n",
       "        vertical-align: middle;\n",
       "    }\n",
       "\n",
       "    .dataframe tbody tr th {\n",
       "        vertical-align: top;\n",
       "    }\n",
       "\n",
       "    .dataframe thead th {\n",
       "        text-align: right;\n",
       "    }\n",
       "</style>\n",
       "<table border=\"1\" class=\"dataframe\">\n",
       "  <thead>\n",
       "    <tr style=\"text-align: right;\">\n",
       "      <th></th>\n",
       "      <th>rating</th>\n",
       "      <th>reviews</th>\n",
       "    </tr>\n",
       "  </thead>\n",
       "  <tbody>\n",
       "    <tr>\n",
       "      <th>0</th>\n",
       "      <td>5.0 out of 5 stars</td>\n",
       "      <td>I got this phone on Friday evening.\\n\\nPros:\\n...</td>\n",
       "    </tr>\n",
       "  </tbody>\n",
       "</table>\n",
       "</div>"
      ],
      "text/plain": [
       "               rating                                            reviews\n",
       "0  5.0 out of 5 stars  I got this phone on Friday evening.\\n\\nPros:\\n..."
      ]
     },
     "execution_count": 39,
     "metadata": {},
     "output_type": "execute_result"
    }
   ],
   "source": [
    "df3 = pd.DataFrame(columns = ['rating','reviews'])\n",
    "\n",
    "for i in amazon_reviews:\n",
    "    rating = i.find_element_by_css_selector('span.a-icon-alt').get_attribute('innerHTML')\n",
    "    review = i.find_element_by_css_selector('div.a-expander-content.reviewText.review-text-content.a-expander-partial-collapse-content').text\n",
    "    current_table = {\n",
    "        'rating':rating,\n",
    "        'reviews':review\n",
    "        #'Technical Details':Technical Details\n",
    "        #'product_decription':product_decription\n",
    "    }\n",
    "    df3 = df3.append(current_table,ignore_index= True)\n",
    "df3\n"
   ]
  },
  {
   "cell_type": "code",
   "execution_count": 40,
   "metadata": {},
   "outputs": [
    {
     "name": "stdout",
     "output_type": "stream",
     "text": [
      "5.0 out of 5 stars\n",
      "I got this phone on Friday evening.\n",
      "\n",
      "Pros:\n",
      "Great battery life\n",
      "Amazing performance\n",
      "Premium design\n",
      "Impressive rear and front camera\n",
      "In display fingerprint scanner is really fast\n",
      "\n",
      "Cons:\n",
      "No headphone jack but you'll get a converter\n",
      "No notification LED\n",
      "No microSD card slot\n",
      "\n",
      "I will give points on my personal experience of 2 days full usage as below:\n",
      "\n",
      "Weight: 9/10\n",
      "OS: 10/10\n",
      "Screen size: 10/10\n",
      "CPU: 10/10\n",
      "Performance: 10/10\n",
      "Storage: 10/10 (you'll get approx 113 gb for use)\n",
      "Battery: 8/10\n",
      "Rear camera: 10/10\n",
      "Front camera: 10/10\n",
      "In display fingerprint scanner: 9/10\n",
      "Face unlock: 10/10\n",
      "\n",
      "I hope this will help full.\n"
     ]
    }
   ],
   "source": [
    "for i in amazon_reviews:\n",
    "    rating = i.find_element_by_css_selector('span.a-icon-alt').get_attribute('innerHTML')\n",
    "    review = i.find_element_by_css_selector('div.a-expander-content.reviewText.review-text-content.a-expander-partial-collapse-content').text\n",
    "print(rating)\n",
    "print(review)"
   ]
  },
  {
   "cell_type": "code",
   "execution_count": 130,
   "metadata": {},
   "outputs": [
    {
     "data": {
      "text/plain": [
       "5"
      ]
     },
     "execution_count": 130,
     "metadata": {},
     "output_type": "execute_result"
    }
   ],
   "source": [
    "amazon_tech = browser.find_elements_by_css_selector(\"div.section.techD\")\n",
    "len(amazon_tech)"
   ]
  },
  {
   "cell_type": "code",
   "execution_count": 131,
   "metadata": {},
   "outputs": [
    {
     "ename": "SyntaxError",
     "evalue": "invalid syntax (<ipython-input-131-2cd097fad3a7>, line 5)",
     "output_type": "error",
     "traceback": [
      "\u001b[1;36m  File \u001b[1;32m\"<ipython-input-131-2cd097fad3a7>\"\u001b[1;36m, line \u001b[1;32m5\u001b[0m\n\u001b[1;33m    Technical Details = i.find_element_by_css_selector\u001b[0m\n\u001b[1;37m                    ^\u001b[0m\n\u001b[1;31mSyntaxError\u001b[0m\u001b[1;31m:\u001b[0m invalid syntax\n"
     ]
    }
   ],
   "source": [
    "df2 = pd.DataFrame(columns = ['rating','reviews','Technical Details'])\n",
    "for i in amazon_tech:\n",
    "    rating = i.find_element_by_css_selector('t').get_attribute('innerHTML')\n",
    "    reviews = i.find_element_by_css_selector('div.a-expander-content.reviewText.review-text-content.a-expander-partial-collapse-content.a-expander-content-expanded').get_attribute('innerHTML')\n",
    "    Technical Details = i.find_element_by_css_selector\n",
    "    current_table = {\n",
    "        'rating':rating,\n",
    "        'reviews':reviews\n",
    "        #'Technical Details':Technical Details\n",
    "        #'product_decription':product_decription\n",
    "    }\n",
    "    df2 = df2.append(current_table,ignore_index= True)\n",
    "df2"
   ]
  },
  {
   "cell_type": "code",
   "execution_count": 132,
   "metadata": {},
   "outputs": [
    {
     "name": "stdout",
     "output_type": "stream",
     "text": [
      "None\n"
     ]
    }
   ],
   "source": [
    "for i in amazon_tech:\n",
    "    rating = i.find_element_by_css_selector('div.content.pdClearfix').get_attribute('tbody')\n",
    "print(rating)"
   ]
  },
  {
   "cell_type": "code",
   "execution_count": null,
   "metadata": {},
   "outputs": [],
   "source": []
  },
  {
   "cell_type": "code",
   "execution_count": null,
   "metadata": {},
   "outputs": [],
   "source": []
  },
  {
   "cell_type": "code",
   "execution_count": null,
   "metadata": {},
   "outputs": [],
   "source": []
  },
  {
   "cell_type": "code",
   "execution_count": null,
   "metadata": {},
   "outputs": [],
   "source": []
  }
 ],
 "metadata": {
  "kernelspec": {
   "display_name": "Python 3",
   "language": "python",
   "name": "python3"
  },
  "language_info": {
   "codemirror_mode": {
    "name": "ipython",
    "version": 3
   },
   "file_extension": ".py",
   "mimetype": "text/x-python",
   "name": "python",
   "nbconvert_exporter": "python",
   "pygments_lexer": "ipython3",
   "version": "3.6.5"
  }
 },
 "nbformat": 4,
 "nbformat_minor": 2
}
