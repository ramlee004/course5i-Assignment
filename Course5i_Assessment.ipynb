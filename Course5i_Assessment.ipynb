{
 "cells": [
  {
   "cell_type": "code",
   "execution_count": 1,
   "metadata": {},
   "outputs": [],
   "source": [
    "import pandas as pd\n",
    "import selenium\n",
    "import requests\n",
    "import re\n",
    "from selenium import webdriver"
   ]
  },
  {
   "cell_type": "code",
   "execution_count": 2,
   "metadata": {},
   "outputs": [],
   "source": [
    "browser = webdriver.Chrome('chromedriver.exe')"
   ]
  },
  {
   "cell_type": "code",
   "execution_count": 4,
   "metadata": {},
   "outputs": [],
   "source": [
    "amazon_url = 'http://tiny.cc/sck34y'\n",
    "browser.get(amazon_url)"
   ]
  },
  {
   "cell_type": "code",
   "execution_count": 116,
   "metadata": {},
   "outputs": [
    {
     "data": {
      "text/plain": [
       "1"
      ]
     },
     "execution_count": 116,
     "metadata": {},
     "output_type": "execute_result"
    }
   ],
   "source": [
    "amazon_product = browser.find_elements_by_css_selector('div#dp')\n",
    "len(amazon_product)"
   ]
  },
  {
   "cell_type": "code",
   "execution_count": 155,
   "metadata": {},
   "outputs": [
    {
     "data": {
      "text/html": [
       "<div>\n",
       "<style scoped>\n",
       "    .dataframe tbody tr th:only-of-type {\n",
       "        vertical-align: middle;\n",
       "    }\n",
       "\n",
       "    .dataframe tbody tr th {\n",
       "        vertical-align: top;\n",
       "    }\n",
       "\n",
       "    .dataframe thead th {\n",
       "        text-align: right;\n",
       "    }\n",
       "</style>\n",
       "<table border=\"1\" class=\"dataframe\">\n",
       "  <thead>\n",
       "    <tr style=\"text-align: right;\">\n",
       "      <th></th>\n",
       "      <th>category</th>\n",
       "      <th>product_image</th>\n",
       "      <th>product_description</th>\n",
       "      <th>product_price</th>\n",
       "      <th>product_discount</th>\n",
       "      <th>rating</th>\n",
       "      <th>product_color</th>\n",
       "    </tr>\n",
       "  </thead>\n",
       "  <tbody>\n",
       "    <tr>\n",
       "      <th>0</th>\n",
       "      <td>OnePlus 6T (Midnight Black, 8GB RAM, 128GB Sto...</td>\n",
       "      <td>https://m.media-amazon.com/images/G/31/img13/r...</td>\n",
       "      <td>Size name:8+128 GB  |  Colour:Midnight Black</td>\n",
       "      <td>41,999.00</td>\n",
       "      <td>9,000.00 (21%)</td>\n",
       "      <td></td>\n",
       "      <td>8+128 GB</td>\n",
       "    </tr>\n",
       "  </tbody>\n",
       "</table>\n",
       "</div>"
      ],
      "text/plain": [
       "                                            category  \\\n",
       "0  OnePlus 6T (Midnight Black, 8GB RAM, 128GB Sto...   \n",
       "\n",
       "                                       product_image  \\\n",
       "0  https://m.media-amazon.com/images/G/31/img13/r...   \n",
       "\n",
       "                            product_description product_price  \\\n",
       "0  Size name:8+128 GB  |  Colour:Midnight Black     41,999.00   \n",
       "\n",
       "    product_discount rating product_color  \n",
       "0     9,000.00 (21%)             8+128 GB  "
      ]
     },
     "execution_count": 155,
     "metadata": {},
     "output_type": "execute_result"
    }
   ],
   "source": [
    "df = pd.DataFrame(columns = ['category','product_image','product_description','product_price','product_discount','rating'])\n",
    "for books in amazon_product:\n",
    "    category_name = books.find_element_by_css_selector('h1').text\n",
    "    product_image = books.find_element_by_css_selector('div img').get_attribute('src')\n",
    "    product_description = books.find_element_by_css_selector('div.disclaim').text\n",
    "    product_price = books.find_element_by_css_selector('span.priceBlockStrikePriceString.a-text-strike').text\n",
    "    product_discount = books.find_element_by_css_selector('td.a-span12.a-color-price.a-size-base.priceBlockSavingsString').text\n",
    "    product_color = books.find_element_by_css_selector('span.selection').text\n",
    "    rating = books.find_element_by_css_selector('i.a-icon.a-icon-star.a-star-5.review-rating').text\n",
    "    current_table = {\n",
    "        'category':category_name,\n",
    "        'product_image':product_image,\n",
    "        'product_description':product_description,\n",
    "        'product_price':product_price,\n",
    "        'product_discount':product_discount,\n",
    "        'product_color':product_color,\n",
    "        'rating':rating\n",
    "         }\n",
    "    df = df.append(current_table,ignore_index= True)\n",
    "df"
   ]
  },
  {
   "cell_type": "code",
   "execution_count": 19,
   "metadata": {},
   "outputs": [
    {
     "ename": "SyntaxError",
     "evalue": "invalid syntax (<ipython-input-19-353d55766c90>, line 11)",
     "output_type": "error",
     "traceback": [
      "\u001b[1;36m  File \u001b[1;32m\"<ipython-input-19-353d55766c90>\"\u001b[1;36m, line \u001b[1;32m11\u001b[0m\n\u001b[1;33m    ....\u001b[0m\n\u001b[1;37m        ^\u001b[0m\n\u001b[1;31mSyntaxError\u001b[0m\u001b[1;31m:\u001b[0m invalid syntax\n"
     ]
    }
   ],
   "source": [
    "#Product Title\n",
    "#Product Description\n",
    "#Product Enlarge Image\n",
    "#Product Price (With Exchange and Without Exchange)\n",
    "#Product Colours\n",
    "# of Reviews\n",
    "#Star Rating\n",
    "#Technical Details\n",
    "#Most Recent 100 Reviews\n"
   ]
  },
  {
   "cell_type": "code",
   "execution_count": 152,
   "metadata": {},
   "outputs": [
    {
     "data": {
      "text/plain": [
       "1"
      ]
     },
     "execution_count": 152,
     "metadata": {},
     "output_type": "execute_result"
    }
   ],
   "source": [
    "amazon_reviews = browser.find_elements_by_css_selector(\"div.a-section.a-spacing-extra-large.reviews-content.filterable-reviews-content.celwidget\")\n",
    "len(amazon_reviews)"
   ]
  },
  {
   "cell_type": "code",
   "execution_count": 154,
   "metadata": {},
   "outputs": [
    {
     "data": {
      "text/html": [
       "<div>\n",
       "<style scoped>\n",
       "    .dataframe tbody tr th:only-of-type {\n",
       "        vertical-align: middle;\n",
       "    }\n",
       "\n",
       "    .dataframe tbody tr th {\n",
       "        vertical-align: top;\n",
       "    }\n",
       "\n",
       "    .dataframe thead th {\n",
       "        text-align: right;\n",
       "    }\n",
       "</style>\n",
       "<table border=\"1\" class=\"dataframe\">\n",
       "  <thead>\n",
       "    <tr style=\"text-align: right;\">\n",
       "      <th></th>\n",
       "      <th>rating</th>\n",
       "      <th>reviews</th>\n",
       "    </tr>\n",
       "  </thead>\n",
       "  <tbody>\n",
       "    <tr>\n",
       "      <th>0</th>\n",
       "      <td>&lt;span class=\"a-icon-alt\"&gt;5.0 out of 5 stars&lt;/s...</td>\n",
       "      <td>I got this phone on Friday evening.\\n\\nPros:\\n...</td>\n",
       "    </tr>\n",
       "  </tbody>\n",
       "</table>\n",
       "</div>"
      ],
      "text/plain": [
       "                                              rating  \\\n",
       "0  <span class=\"a-icon-alt\">5.0 out of 5 stars</s...   \n",
       "\n",
       "                                             reviews  \n",
       "0  I got this phone on Friday evening.\\n\\nPros:\\n...  "
      ]
     },
     "execution_count": 154,
     "metadata": {},
     "output_type": "execute_result"
    }
   ],
   "source": [
    "df1 = pd.DataFrame(columns = ['rating','reviews'])\n",
    "for i in amazon_reviews:\n",
    "    rating = i.find_element_by_css_selector('i.a-icon.a-icon-star.a-star-5.review-rating').get_attribute('innerHTML')\n",
    "    reviews = i.find_element_by_css_selector('div.a-expander-content.reviewText.review-text-content.a-expander-partial-collapse-content.a-expander-content-expanded').text\n",
    "    \n",
    "    current_table = {\n",
    "        'rating':rating,\n",
    "        'reviews':reviews,\n",
    "        #'Technical Details':Technical Details\n",
    "        #'product_decription':product_decription\n",
    "    }\n",
    "    df1 = df1.append(current_table,ignore_index= True)\n",
    "df1"
   ]
  },
  {
   "cell_type": "code",
   "execution_count": 129,
   "metadata": {},
   "outputs": [],
   "source": [
    "for i in amazon_reviews:\n",
    "    rating = i.find_element_by_css_selector('i.a-icon.a-icon-star.a-star-5.review-rating').get_attribute('innerHTML')\n",
    "    reviews = i.find_element_by_css_selector('div.a-expander-content.reviewText.review-text-content.a-expander-partial-collapse-content.a-expander-content-expanded').text\n",
    "    print(rating)\n",
    "    print(reviews)"
   ]
  },
  {
   "cell_type": "code",
   "execution_count": 130,
   "metadata": {},
   "outputs": [
    {
     "data": {
      "text/plain": [
       "5"
      ]
     },
     "execution_count": 130,
     "metadata": {},
     "output_type": "execute_result"
    }
   ],
   "source": [
    "amazon_tech = browser.find_elements_by_css_selector(\"div.section.techD\")\n",
    "len(amazon_tech)"
   ]
  },
  {
   "cell_type": "code",
   "execution_count": 131,
   "metadata": {},
   "outputs": [
    {
     "ename": "SyntaxError",
     "evalue": "invalid syntax (<ipython-input-131-2cd097fad3a7>, line 5)",
     "output_type": "error",
     "traceback": [
      "\u001b[1;36m  File \u001b[1;32m\"<ipython-input-131-2cd097fad3a7>\"\u001b[1;36m, line \u001b[1;32m5\u001b[0m\n\u001b[1;33m    Technical Details = i.find_element_by_css_selector\u001b[0m\n\u001b[1;37m                    ^\u001b[0m\n\u001b[1;31mSyntaxError\u001b[0m\u001b[1;31m:\u001b[0m invalid syntax\n"
     ]
    }
   ],
   "source": [
    "df2 = pd.DataFrame(columns = ['rating','reviews','Technical Details'])\n",
    "for i in amazon_tech:\n",
    "    rating = i.find_element_by_css_selector('t').get_attribute('innerHTML')\n",
    "    reviews = i.find_element_by_css_selector('div.a-expander-content.reviewText.review-text-content.a-expander-partial-collapse-content.a-expander-content-expanded').get_attribute('innerHTML')\n",
    "    Technical Details = i.find_element_by_css_selector\n",
    "    current_table = {\n",
    "        'rating':rating,\n",
    "        'reviews':reviews\n",
    "        'Technical Details':Technical Details\n",
    "        #'product_decription':product_decription\n",
    "    }\n",
    "    df2 = df2.append(current_table,ignore_index= True)\n",
    "df2"
   ]
  },
  {
   "cell_type": "code",
   "execution_count": 132,
   "metadata": {},
   "outputs": [
    {
     "name": "stdout",
     "output_type": "stream",
     "text": [
      "None\n"
     ]
    }
   ],
   "source": [
    "for i in amazon_tech:\n",
    "    rating = i.find_element_by_css_selector('div.content.pdClearfix').get_attribute('tbody')\n",
    "print(rating)"
   ]
  },
  {
   "cell_type": "code",
   "execution_count": null,
   "metadata": {},
   "outputs": [],
   "source": []
  },
  {
   "cell_type": "code",
   "execution_count": null,
   "metadata": {},
   "outputs": [],
   "source": []
  },
  {
   "cell_type": "code",
   "execution_count": null,
   "metadata": {},
   "outputs": [],
   "source": []
  },
  {
   "cell_type": "code",
   "execution_count": null,
   "metadata": {},
   "outputs": [],
   "source": []
  }
 ],
 "metadata": {
  "kernelspec": {
   "display_name": "Python 3",
   "language": "python",
   "name": "python3"
  },
  "language_info": {
   "codemirror_mode": {
    "name": "ipython",
    "version": 3
   },
   "file_extension": ".py",
   "mimetype": "text/x-python",
   "name": "python",
   "nbconvert_exporter": "python",
   "pygments_lexer": "ipython3",
   "version": "3.6.5"
  }
 },
 "nbformat": 4,
 "nbformat_minor": 2
}
